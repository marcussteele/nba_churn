{
 "cells": [
  {
   "cell_type": "code",
   "execution_count": 2,
   "metadata": {},
   "outputs": [],
   "source": [
    "import requests\n",
    "from bs4 import BeautifulSoup\n",
    "import pandas as pd\n",
    "import numpy as np\n",
    "import datetime\n",
    "from sklearn.cluster import KMeans\n",
    "from sklearn.preprocessing import StandardScaler\n",
    "from collections import defaultdict\n"
   ]
  },
  {
   "cell_type": "code",
   "execution_count": 4,
   "metadata": {},
   "outputs": [],
   "source": [
    "now = datetime.datetime.now()\n",
    "this_year = now.year"
   ]
  },
  {
   "cell_type": "code",
   "execution_count": 3,
   "metadata": {},
   "outputs": [],
   "source": [
    "# Make a request for the data\n",
    "req = requests.get('https://www.spotrac.com/nba/free-agents/')\n",
    "req.status_code\n",
    "# get just the content from the html\n",
    "content = req.content\n",
    "soup = BeautifulSoup(content)\n",
    "# Get only the table from the webpage\n",
    "tables = soup.find_all('table')\n",
    "# Turn the table to a pandas dataframe\n",
    "data_2019 = pd.read_html(str(tables))\n",
    "# Output was a list. Get the dataframe out of the list\n",
    "data_2019 = data_2019[0]\n",
    "\n",
    "data_2019['Salary'] = data_2019['2018-2019 AAV']\n",
    "data_2019.drop(['2018-2019 AAV','Rights'],axis=1,inplace=True)\n",
    "data_2019['Player'] = data_2019.iloc[:,0]\n",
    "data_2019.drop(data_2019.iloc[:,0].name,axis=1,inplace=True)\n",
    "data_2019['Salary'] = data_2019['Salary'].apply(lambda x: x.replace('$','').replace(',',''))\n",
    "data_2019.set_index('Player',inplace=True)"
   ]
  },
  {
   "cell_type": "code",
   "execution_count": 5,
   "metadata": {},
   "outputs": [],
   "source": [
    "# list of years to scrape data for\n",
    "years = list(range(2011,this_year))\n",
    "\n",
    "# loop through the years to make a new dataframe for each year\n",
    "for year in years:\n",
    "    req = requests.get('https://www.spotrac.com/nba/free-agents/' + str(year))\n",
    "    content = req.content\n",
    "    soup = BeautifulSoup(content)\n",
    "    tables = soup.find_all('table')\n",
    "    # creates a variable for each year\n",
    "    # ex. data_2011\n",
    "    globals()['data_%s' % year] = pd.read_html(str(tables))\n",
    "    globals()['data_%s' % year] = globals()['data_%s' % year][0]\n",
    "    # Take out totals row and cap hit column\n",
    "    globals()['data_%s' % year].drop(globals()['data_%s' % year].tail(1).index,inplace=True)\n",
    "    globals()['data_%s' % year].drop(['{} Cap Hit'.format(year),'Dollars','Age'],axis=1,inplace=True)\n",
    "    globals()['data_%s' % year]['Year of Free Agency'] = year\n",
    "    globals()['data_%s' % year]['Player'] = globals()['data_%s' % year].iloc[:,0]\n",
    "    globals()['data_%s' % year]['Player'] = globals()['data_%s' % year]['Player'].apply(lambda x: x.replace('.','').replace(\"'\",''))\n",
    "    globals()['data_%s' % year].drop(globals()['data_%s' % year].iloc[:,0].name,axis=1,inplace=True)\n",
    "    globals()['data_%s' % year].drop_duplicates(subset='Player',keep='first',inplace=True)\n",
    "    globals()['data_%s' % year].set_index('Player',inplace=True)"
   ]
  },
  {
   "cell_type": "code",
   "execution_count": 6,
   "metadata": {},
   "outputs": [],
   "source": [
    "data = []\n",
    "for year in years:\n",
    "    data.append(globals()['data_%s' % year])"
   ]
  },
  {
   "cell_type": "code",
   "execution_count": 7,
   "metadata": {},
   "outputs": [],
   "source": [
    "data=pd.concat(data)"
   ]
  },
  {
   "cell_type": "code",
   "execution_count": 8,
   "metadata": {},
   "outputs": [],
   "source": [
    "playoffs_2011 = ['IND','MIA','CHI','POR','DAL','PHI','ATL','NYK','SAS','OKC','DEN','LAL','BOS','ORL','CHA','MEM']\n",
    "playoffs_2012 = ['PHI','CHI','ORL','IND','NYK','MIA','DAL','OKC','BOS','ATL','DEN','LAL','LAC','MEM','UTH','SAS']\n",
    "playoffs_2013 = ['CHI','BKN','GSW','DEN','MEM','LAC','BOS','NYK','ATL','IND','MIL','MIA','HOU','OKC','LAL','SAS']\n",
    "playoffs_2014 = ['ATL','IND','GSW','LAC','MEM','OKC','BKN','TOR','WAS','CHI','POR','HOU','CHA','MIA','DAL','SAS']\n",
    "playoffs_2015 = ['MIL','CHI','NOP','GSW','DAL','HOU','WAS','TOR','BKN','ATL','BOS','CLE','SAS','LAC','POR','MEM']\n",
    "playoffs_2016 = ['BOS','ATL','HOU','GSW','DAL','OKC','IND','TOR','DET','CLE','POR','LAC','CHA','MIA','MEM','SAS']\n",
    "playoffs_2017 = ['IND','CLE','UTH','LAC','MEM','SAS','MIL','TOR','CHI','BOS','POR','GSW','OKC','HOU','ATL','WAS']\n",
    "playoffs_2018 = ['SAS','GSW','MIA','PHI','NOP','POR','WAS','TOR','MIL','BOS','IND','CLE','MIN','HOU','UTH','OKC']"
   ]
  },
  {
   "cell_type": "code",
   "execution_count": 9,
   "metadata": {},
   "outputs": [],
   "source": [
    "# Get data for players stats for every year\n",
    "for year in years:\n",
    "    req = requests.get(\"https://www.basketball-reference.com/leagues/NBA_{}_per_game.html\".format(year))\n",
    "    content = req.content\n",
    "    soup = BeautifulSoup(content)\n",
    "    tables = soup.find('table')\n",
    "    globals()['stats_%s' % year] = pd.read_html(str(tables))\n",
    "    globals()['stats_%s' % year] = globals()['stats_%s' % year][0]\n",
    "    globals()['stats_%s' % year].drop(['Rk','DRB','ORB'],axis=1,inplace=True)\n",
    "    globals()['stats_%s' % year].drop_duplicates(subset='Player',keep='last',inplace=True)\n",
    "    globals()['stats_%s' % year]['Player'] = globals()['stats_%s' % year]['Player'].apply(lambda x: x.replace(\"'\",'')\n",
    "                                                                                          .replace('.','')\n",
    "                                                                                          .replace('*',''))\n",
    "    globals()['stats_%s' % year].set_index('Player',inplace=True)\n",
    "    globals()['stats_%s' % year]['Year'] = year\n",
    "    globals()['stats_%s' % year]['Playoffs'] = globals()['stats_%s' % year]['Tm'].apply(lambda x: True if x in globals()['playoffs_%s' % year] else False).astype(int)"
   ]
  },
  {
   "cell_type": "code",
   "execution_count": 10,
   "metadata": {},
   "outputs": [],
   "source": [
    "stats_data = []\n",
    "for year in years:\n",
    "    stats_data.append(globals()['stats_%s' % year])\n",
    "stats_data = pd.concat(stats_data)"
   ]
  },
  {
   "cell_type": "code",
   "execution_count": 34,
   "metadata": {},
   "outputs": [
    {
     "name": "stderr",
     "output_type": "stream",
     "text": [
      "/Users/MSteele/anaconda3/lib/python3.7/site-packages/ipykernel_launcher.py:14: SettingWithCopyWarning: \n",
      "A value is trying to be set on a copy of a slice from a DataFrame.\n",
      "Try using .loc[row_indexer,col_indexer] = value instead\n",
      "\n",
      "See the caveats in the documentation: http://pandas.pydata.org/pandas-docs/stable/indexing.html#indexing-view-versus-copy\n",
      "  \n"
     ]
    }
   ],
   "source": [
    "for year in years:\n",
    "    last = year - 1\n",
    "    req = requests.get('https://hoopshype.com/salaries/players/{}-{}/'.format(str(last),year))\n",
    "    content = req.content\n",
    "    soup = BeautifulSoup(content)\n",
    "    tables = soup.find('table')\n",
    "    a = pd.read_html(str(tables))\n",
    "    a = a[0]\n",
    "    a = a.drop_duplicates(subset='Player',keep='first')\n",
    "    a.set_index('Player',inplace=True)\n",
    "    a['Year'] = year\n",
    "    a['Salary'] = a['{}/{}'.format(last,str(year)[2:])]\n",
    "    globals()['salary_%s' % year] = a[['Salary','Year']]\n",
    "    globals()['salary_%s' % year]['Salary'] = globals()['salary_%s' % year]['Salary'].apply(lambda x: x.replace('$','').replace(',','').replace(\"'\",''))"
   ]
  },
  {
   "cell_type": "code",
   "execution_count": 35,
   "metadata": {},
   "outputs": [],
   "source": [
    "salary_data = []\n",
    "for year in years:\n",
    "    salary_data.append(globals()['salary_%s' % year])\n",
    "salary_data = pd.concat(salary_data)"
   ]
  },
  {
   "cell_type": "code",
   "execution_count": 160,
   "metadata": {},
   "outputs": [],
   "source": [
    "stats_data.rename(index={'Tim Hardaway':'Tim Hardaway Jr'},inplace=True)\n",
    "stats_data.rename(index={'Patty Mills':'Patrick Mills'},inplace=True)\n",
    "stats_data.rename(index={'Ish Smith':'Ishmael Smith'},inplace=True)\n",
    "stats_data.rename(index={'JJ Barea': 'Jose Barea'},inplace=True)\n",
    "stats_data.rename(index={'Pooh Jeter':'Eugene Jeter'},inplace=True)\n",
    "stats_data.rename(index={'Byron Mullens':'BJ Mullens'},inplace=True)\n",
    "stats_data.rename(index={'Glenn Robinson':'Glenn Robinson III'},inplace=True)\n",
    "stats_data.rename(index={'Lou Amundson':'Louis Amundson'},inplace=True)\n",
    "stats_data.rename(index={'Lou Williams':'Louis Williams'},inplace=True)\n",
    "salary_data.rename(index={'Jose Juan Barea':'Jose Barea'},inplace=True)\n",
    "salary_data.rename(index={'Aleksandar Pavlovic':'Sasha Pavlovic'},inplace=True)\n",
    "salary_data.rename(index={'Hidayet Turkoglu':'Hedo Turkoglu'},inplace=True)\n",
    "salary_data.rename(index={'Maurice Williams':'Mo Williams'},inplace=True)\n",
    "salary_data.rename(index={'Nenê':'Nene Hilario'},inplace=True)\n",
    "salary_data.rename(index={'Kelenna Azubuike':'Kelenna Azubuike'},inplace=True)\n",
    "salary_data.rename(index={'Predrag Stojakovic':'Peja Stojakovic'},inplace=True)\n",
    "data.rename(index={'Luc Richard Mbah a Moute':'Luc Mbah a Moute'},inplace=True)\n",
    "salary_data.rename(index={'John Lucas':'John Lucas III'},inplace=True)\n",
    "data.rename(index={'Darrun Hilliard II':'Darrun Hilliard'},inplace=True)\n",
    "data.rename(index={'Otto Porter Jr':'Otto Porter'},inplace=True)"
   ]
  },
  {
   "cell_type": "code",
   "execution_count": 161,
   "metadata": {},
   "outputs": [],
   "source": [
    "team_dict = {'SAC':'Sacramento Kings','IND':'Indiana Pacers','NJN':'New Jersey Nets','HOU':'Houston Rockets'\n",
    "             ,'TOR':'Toronto Raptors','MIN':'Minnesota Timberwolves','GSW':'Golden State Warriors','UTH':'Utah Jazz'\n",
    "             ,'NOH':'New Orleans Hornets','CLE':'Cleveland Cavaliers','NYK':'New York Knicks','OKC':'Oklahoma City Thunder'\n",
    "             ,'DET':'Detroit Pistons','PHI':'Philadelphia 76ers','PHX':'Phoenix Suns','CHA':'Charlotte Hornets'\n",
    "             ,'POR':'Portland Trail Blazers','MIL':'Milwaukee Bucks','MEM':'Memphis Grizzlies','WAS':'Washington Wizards'\n",
    "             ,'ORL':'Orlando Magic','LAC':'Los Angeles Clippers','CHI':'Chicago Bulls','ATL':'Atlanta Hawks'\n",
    "             ,'SAS':'San Antonio Spurs','DAL':'Dallas Mavericks','BOS':'Boston Celtics','MIA':'Miami Heat'\n",
    "             ,'LAL':'Los Angeles Lakers','DEN':'Denver Nuggets','NOP':'New Orleans Pelicans','BKN':'Brooklyn Nets'}"
   ]
  },
  {
   "cell_type": "code",
   "execution_count": 163,
   "metadata": {},
   "outputs": [],
   "source": [
    "for year in years:\n",
    "    req = requests.get('https://www.spotrac.com/nba/cap/{}/'.format(year))\n",
    "    content = req.content\n",
    "    soup = BeautifulSoup(content)\n",
    "    tables = soup.find('table')\n",
    "    globals()['team_cap_%s' % year] = pd.read_html(str(tables))\n",
    "    globals()['team_cap_%s' % year] = globals()['team_cap_%s' % year][0]\n",
    "    globals()['team_cap_%s' % year] = globals()['team_cap_%s' % year][['Team','Lux Tax Space']]\n",
    "    globals()['team_cap_%s' % year].set_index('Team')\n",
    "    globals()['team_cap_%s' % year]['Lux Tax Space'] = globals()['team_cap_%s' % year]['Lux Tax Space'].apply(lambda x: \n",
    "                                                                                                              int(x.replace('$','')\n",
    "                                                                                                                  .replace(',','')\n",
    "                                                                                                                  .replace('*','')))"
   ]
  },
  {
   "cell_type": "code",
   "execution_count": 164,
   "metadata": {},
   "outputs": [
    {
     "name": "stderr",
     "output_type": "stream",
     "text": [
      "/Users/MSteele/anaconda3/lib/python3.7/site-packages/pandas/core/indexing.py:189: SettingWithCopyWarning: \n",
      "A value is trying to be set on a copy of a slice from a DataFrame\n",
      "\n",
      "See the caveats in the documentation: http://pandas.pydata.org/pandas-docs/stable/indexing.html#indexing-view-versus-copy\n",
      "  self._setitem_with_indexer(indexer, value)\n"
     ]
    }
   ],
   "source": [
    "team_cap_2011['Team'].iloc[15] = 'Charlotte Hornets'\n",
    "team_cap_2012['Team'].iloc[3] = 'Charlotte Hornets'\n",
    "team_cap_2012['Team'].iloc[28] = 'Brooklyn Nets'\n",
    "team_cap_2013['Team'].iloc[8] = 'Charlotte Hornets'\n",
    "data_2012['From'].iloc[100] = 'BKN'\n",
    "data_2012['From'].iloc[128] = 'BKN'\n",
    "data_2012['From'].iloc[132] = 'BKN'\n",
    "data_2012['From'].iloc[174] = 'BKN'\n",
    "data_2012['From'].iloc[184] = 'BKN'\n",
    "data_2012['From'].iloc[209] = 'BKN'\n",
    "data_2012['From'].iloc[233] = 'BKN'\n",
    "data_2013['From'].iloc[284] = 'NOP'"
   ]
  },
  {
   "cell_type": "code",
   "execution_count": 165,
   "metadata": {},
   "outputs": [],
   "source": [
    "for year in years:\n",
    "    team_cap = []\n",
    "    for i in range(len(globals()['data_%s' % year])):\n",
    "        if type(globals()['data_%s' % year].iloc[i]['From']) == float:\n",
    "            team_cap.append(0)\n",
    "        else:\n",
    "            team = team_dict[globals()['data_%s' % year].iloc[i]['From']]\n",
    "            cap = globals()['team_cap_%s' % year][globals()['team_cap_%s' % year]['Team'] == team]['Lux Tax Space'].iloc[0]\n",
    "            team_cap.append(cap)\n",
    "    globals()['data_%s' % year]['Team Cap'] = team_cap"
   ]
  },
  {
   "cell_type": "code",
   "execution_count": 166,
   "metadata": {},
   "outputs": [],
   "source": [
    "free_agents = defaultdict(pd.DataFrame)\n",
    "stats = defaultdict(pd.DataFrame)\n",
    "salary = defaultdict(pd.DataFrame)\n",
    "team_cap = defaultdict(pd.DataFrame)\n",
    "for year in years:\n",
    "    for player in data.index:\n",
    "        free_agents[player] = data[data.index == player]\n",
    "        stats[player] = stats_data[stats_data.index == player]\n",
    "        salary[player] = salary_data[salary_data.index == player]"
   ]
  },
  {
   "cell_type": "code",
   "execution_count": 167,
   "metadata": {},
   "outputs": [],
   "source": [
    "free_agents_df = pd.DataFrame()\n",
    "for player in free_agents:\n",
    "    df = free_agents[player]\n",
    "    if len(free_agents_df) == 0:\n",
    "        free_agents_df = df\n",
    "    else:\n",
    "        free_agents_df = pd.concat([free_agents_df,df])"
   ]
  },
  {
   "cell_type": "code",
   "execution_count": 168,
   "metadata": {},
   "outputs": [],
   "source": [
    "stats_df = pd.DataFrame()\n",
    "for player in stats:\n",
    "    df = stats[player]\n",
    "    if len(stats) == 0:\n",
    "        stats_df = df\n",
    "    else:\n",
    "        stats_df = pd.concat([stats_df,df])"
   ]
  },
  {
   "cell_type": "code",
   "execution_count": 169,
   "metadata": {},
   "outputs": [],
   "source": [
    "salary_df = pd.DataFrame()\n",
    "for player in salary:\n",
    "    df = salary[player]\n",
    "    if len(salary_df) == 0:\n",
    "        salary_df = df\n",
    "    else:\n",
    "        salary_df = pd.concat([salary_df,df])"
   ]
  },
  {
   "cell_type": "code",
   "execution_count": 171,
   "metadata": {},
   "outputs": [
    {
     "name": "stderr",
     "output_type": "stream",
     "text": [
      "/Users/MSteele/anaconda3/lib/python3.7/site-packages/ipykernel_launcher.py:14: FutureWarning: Sorting because non-concatenation axis is not aligned. A future version\n",
      "of pandas will change to not sort by default.\n",
      "\n",
      "To accept the future behavior, pass 'sort=False'.\n",
      "\n",
      "To retain the current behavior and silence the warning, pass 'sort=True'.\n",
      "\n",
      "  \n"
     ]
    }
   ],
   "source": [
    "final_data = pd.DataFrame()\n",
    "for player in free_agents:\n",
    "    f=free_agents[player]\n",
    "    for i in range(len(f)):\n",
    "        year = f.iloc[i]['Year of Free Agency']\n",
    "        z=f[f['Year of Free Agency']==year]\n",
    "        t=stats[player]\n",
    "        y=t[t['Year']==year]\n",
    "        s=salary[player]\n",
    "        x=s[s['Year']==year]\n",
    "        if len(final_data) < 1:\n",
    "            final_data = pd.concat([z,y,x],axis=1)\n",
    "        elif len(final_data) > 0:\n",
    "            final_data = pd.concat([final_data,pd.concat([z,y,x],axis=1)])"
   ]
  },
  {
   "cell_type": "code",
   "execution_count": null,
   "metadata": {},
   "outputs": [],
   "source": [
    "# for year in years:\n",
    "#     globals()['free_agent_%s' % year] = pd.concat([globals()['stats_%s' % year],globals()['salary_%s' % year]]\n",
    "#                                                   ,axis=1,sort=False)"
   ]
  },
  {
   "cell_type": "code",
   "execution_count": null,
   "metadata": {},
   "outputs": [],
   "source": [
    "# for year in years:\n",
    "#     globals()['final_%s' % year] = pd.concat([globals()['data_%s' % year],globals()['free_agent_%s' % year]]\n",
    "#                                              ,axis=1,join_axes=[globals()['data_%s' % year].index])"
   ]
  },
  {
   "cell_type": "code",
   "execution_count": null,
   "metadata": {},
   "outputs": [],
   "source": [
    "# data = []\n",
    "# for year in years:\n",
    "#     data.append(globals()['final_%s' % year])\n",
    "\n",
    "# final_data = pd.concat(data)"
   ]
  },
  {
   "cell_type": "code",
   "execution_count": 31,
   "metadata": {},
   "outputs": [
    {
     "data": {
      "text/plain": [
       "[<matplotlib.lines.Line2D at 0x1a2112d940>]"
      ]
     },
     "execution_count": 31,
     "metadata": {},
     "output_type": "execute_result"
    },
    {
     "data": {
      "image/png": "[encoded data removed]",
      "text/plain": [
       "<Figure size 432x288 with 1 Axes>"
      ]
     },
     "metadata": {
      "needs_background": "light"
     },
     "output_type": "display_data"
    }
   ],
   "source": [
    "plt.plot(years,final_data.groupby('Year of Free Agency').mean()['Salary'])"
   ]
  },
  {
   "cell_type": "code",
   "execution_count": 37,
   "metadata": {},
   "outputs": [
    {
     "data": {
      "text/plain": [
       "[<matplotlib.lines.Line2D at 0x1a20197b38>]"
      ]
     },
     "execution_count": 37,
     "metadata": {},
     "output_type": "execute_result"
    },
    {
     "data": {
      "image/png": "[encoded data removed]",
      "text/plain": [
       "<Figure size 432x288 with 1 Axes>"
      ]
     },
     "metadata": {
      "needs_background": "light"
     },
     "output_type": "display_data"
    }
   ],
   "source": [
    "plt.plot(years,final_data.groupby('Year of Free Agency').max()['Salary'])"
   ]
  },
  {
   "cell_type": "code",
   "execution_count": 235,
   "metadata": {},
   "outputs": [
    {
     "ename": "TypeError",
     "evalue": "unsupported operand type(s) for -: 'float' and 'str'",
     "output_type": "error",
     "traceback": [
      "\u001b[0;31m---------------------------------------------------------------------------\u001b[0m",
      "\u001b[0;31mTypeError\u001b[0m                                 Traceback (most recent call last)",
      "\u001b[0;32m~/anaconda3/lib/python3.7/site-packages/pandas/core/ops.py\u001b[0m in \u001b[0;36mna_op\u001b[0;34m(x, y)\u001b[0m\n\u001b[1;32m   1011\u001b[0m         \u001b[0;32mtry\u001b[0m\u001b[0;34m:\u001b[0m\u001b[0;34m\u001b[0m\u001b[0;34m\u001b[0m\u001b[0m\n\u001b[0;32m-> 1012\u001b[0;31m             \u001b[0mresult\u001b[0m \u001b[0;34m=\u001b[0m \u001b[0mexpressions\u001b[0m\u001b[0;34m.\u001b[0m\u001b[0mevaluate\u001b[0m\u001b[0;34m(\u001b[0m\u001b[0mop\u001b[0m\u001b[0;34m,\u001b[0m \u001b[0mstr_rep\u001b[0m\u001b[0;34m,\u001b[0m \u001b[0mx\u001b[0m\u001b[0;34m,\u001b[0m \u001b[0my\u001b[0m\u001b[0;34m,\u001b[0m \u001b[0;34m**\u001b[0m\u001b[0meval_kwargs\u001b[0m\u001b[0;34m)\u001b[0m\u001b[0;34m\u001b[0m\u001b[0;34m\u001b[0m\u001b[0m\n\u001b[0m\u001b[1;32m   1013\u001b[0m         \u001b[0;32mexcept\u001b[0m \u001b[0mTypeError\u001b[0m\u001b[0;34m:\u001b[0m\u001b[0;34m\u001b[0m\u001b[0;34m\u001b[0m\u001b[0m\n",
      "\u001b[0;32m~/anaconda3/lib/python3.7/site-packages/pandas/core/computation/expressions.py\u001b[0m in \u001b[0;36mevaluate\u001b[0;34m(op, op_str, a, b, use_numexpr, **eval_kwargs)\u001b[0m\n\u001b[1;32m    204\u001b[0m     \u001b[0;32mif\u001b[0m \u001b[0muse_numexpr\u001b[0m\u001b[0;34m:\u001b[0m\u001b[0;34m\u001b[0m\u001b[0;34m\u001b[0m\u001b[0m\n\u001b[0;32m--> 205\u001b[0;31m         \u001b[0;32mreturn\u001b[0m \u001b[0m_evaluate\u001b[0m\u001b[0;34m(\u001b[0m\u001b[0mop\u001b[0m\u001b[0;34m,\u001b[0m \u001b[0mop_str\u001b[0m\u001b[0;34m,\u001b[0m \u001b[0ma\u001b[0m\u001b[0;34m,\u001b[0m \u001b[0mb\u001b[0m\u001b[0;34m,\u001b[0m \u001b[0;34m**\u001b[0m\u001b[0meval_kwargs\u001b[0m\u001b[0;34m)\u001b[0m\u001b[0;34m\u001b[0m\u001b[0;34m\u001b[0m\u001b[0m\n\u001b[0m\u001b[1;32m    206\u001b[0m     \u001b[0;32mreturn\u001b[0m \u001b[0m_evaluate_standard\u001b[0m\u001b[0;34m(\u001b[0m\u001b[0mop\u001b[0m\u001b[0;34m,\u001b[0m \u001b[0mop_str\u001b[0m\u001b[0;34m,\u001b[0m \u001b[0ma\u001b[0m\u001b[0;34m,\u001b[0m \u001b[0mb\u001b[0m\u001b[0;34m)\u001b[0m\u001b[0;34m\u001b[0m\u001b[0;34m\u001b[0m\u001b[0m\n",
      "\u001b[0;32m~/anaconda3/lib/python3.7/site-packages/pandas/core/computation/expressions.py\u001b[0m in \u001b[0;36m_evaluate_numexpr\u001b[0;34m(op, op_str, a, b, truediv, reversed, **eval_kwargs)\u001b[0m\n\u001b[1;32m    119\u001b[0m     \u001b[0;32mif\u001b[0m \u001b[0mresult\u001b[0m \u001b[0;32mis\u001b[0m \u001b[0;32mNone\u001b[0m\u001b[0;34m:\u001b[0m\u001b[0;34m\u001b[0m\u001b[0;34m\u001b[0m\u001b[0m\n\u001b[0;32m--> 120\u001b[0;31m         \u001b[0mresult\u001b[0m \u001b[0;34m=\u001b[0m \u001b[0m_evaluate_standard\u001b[0m\u001b[0;34m(\u001b[0m\u001b[0mop\u001b[0m\u001b[0;34m,\u001b[0m \u001b[0mop_str\u001b[0m\u001b[0;34m,\u001b[0m \u001b[0ma\u001b[0m\u001b[0;34m,\u001b[0m \u001b[0mb\u001b[0m\u001b[0;34m)\u001b[0m\u001b[0;34m\u001b[0m\u001b[0;34m\u001b[0m\u001b[0m\n\u001b[0m\u001b[1;32m    121\u001b[0m \u001b[0;34m\u001b[0m\u001b[0m\n",
      "\u001b[0;32m~/anaconda3/lib/python3.7/site-packages/pandas/core/computation/expressions.py\u001b[0m in \u001b[0;36m_evaluate_standard\u001b[0;34m(op, op_str, a, b, **eval_kwargs)\u001b[0m\n\u001b[1;32m     64\u001b[0m     \u001b[0;32mwith\u001b[0m \u001b[0mnp\u001b[0m\u001b[0;34m.\u001b[0m\u001b[0merrstate\u001b[0m\u001b[0;34m(\u001b[0m\u001b[0mall\u001b[0m\u001b[0;34m=\u001b[0m\u001b[0;34m'ignore'\u001b[0m\u001b[0;34m)\u001b[0m\u001b[0;34m:\u001b[0m\u001b[0;34m\u001b[0m\u001b[0;34m\u001b[0m\u001b[0m\n\u001b[0;32m---> 65\u001b[0;31m         \u001b[0;32mreturn\u001b[0m \u001b[0mop\u001b[0m\u001b[0;34m(\u001b[0m\u001b[0ma\u001b[0m\u001b[0;34m,\u001b[0m \u001b[0mb\u001b[0m\u001b[0;34m)\u001b[0m\u001b[0;34m\u001b[0m\u001b[0;34m\u001b[0m\u001b[0m\n\u001b[0m\u001b[1;32m     66\u001b[0m \u001b[0;34m\u001b[0m\u001b[0m\n",
      "\u001b[0;31mTypeError\u001b[0m: unsupported operand type(s) for -: 'float' and 'str'",
      "\nDuring handling of the above exception, another exception occurred:\n",
      "\u001b[0;31mTypeError\u001b[0m                                 Traceback (most recent call last)",
      "\u001b[0;32m<ipython-input-235-59b97229a364>\u001b[0m in \u001b[0;36m<module>\u001b[0;34m\u001b[0m\n\u001b[0;32m----> 1\u001b[0;31m \u001b[0mstats\u001b[0m\u001b[0;34m[\u001b[0m\u001b[0;34m'LeBron James'\u001b[0m\u001b[0;34m]\u001b[0m\u001b[0;34m[\u001b[0m\u001b[0;34m'MP'\u001b[0m\u001b[0;34m]\u001b[0m\u001b[0;34m.\u001b[0m\u001b[0mrolling\u001b[0m\u001b[0;34m(\u001b[0m\u001b[0;36m3\u001b[0m\u001b[0;34m,\u001b[0m\u001b[0mmin_periods\u001b[0m\u001b[0;34m=\u001b[0m\u001b[0;36m1\u001b[0m\u001b[0;34m)\u001b[0m\u001b[0;34m.\u001b[0m\u001b[0mmean\u001b[0m\u001b[0;34m(\u001b[0m\u001b[0;34m)\u001b[0m\u001b[0;34m-\u001b[0m\u001b[0mstats\u001b[0m\u001b[0;34m[\u001b[0m\u001b[0;34m'LeBron James'\u001b[0m\u001b[0;34m]\u001b[0m\u001b[0;34m[\u001b[0m\u001b[0;34m'MP'\u001b[0m\u001b[0;34m]\u001b[0m\u001b[0;34m\u001b[0m\u001b[0;34m\u001b[0m\u001b[0m\n\u001b[0m",
      "\u001b[0;32m~/anaconda3/lib/python3.7/site-packages/pandas/core/ops.py\u001b[0m in \u001b[0;36mwrapper\u001b[0;34m(left, right)\u001b[0m\n\u001b[1;32m   1067\u001b[0m             \u001b[0mrvalues\u001b[0m \u001b[0;34m=\u001b[0m \u001b[0mrvalues\u001b[0m\u001b[0;34m.\u001b[0m\u001b[0mvalues\u001b[0m\u001b[0;34m\u001b[0m\u001b[0;34m\u001b[0m\u001b[0m\n\u001b[1;32m   1068\u001b[0m \u001b[0;34m\u001b[0m\u001b[0m\n\u001b[0;32m-> 1069\u001b[0;31m         \u001b[0mresult\u001b[0m \u001b[0;34m=\u001b[0m \u001b[0msafe_na_op\u001b[0m\u001b[0;34m(\u001b[0m\u001b[0mlvalues\u001b[0m\u001b[0;34m,\u001b[0m \u001b[0mrvalues\u001b[0m\u001b[0;34m)\u001b[0m\u001b[0;34m\u001b[0m\u001b[0;34m\u001b[0m\u001b[0m\n\u001b[0m\u001b[1;32m   1070\u001b[0m         return construct_result(left, result,\n\u001b[1;32m   1071\u001b[0m                                 index=left.index, name=res_name, dtype=None)\n",
      "\u001b[0;32m~/anaconda3/lib/python3.7/site-packages/pandas/core/ops.py\u001b[0m in \u001b[0;36msafe_na_op\u001b[0;34m(lvalues, rvalues)\u001b[0m\n\u001b[1;32m   1031\u001b[0m         \u001b[0;32mtry\u001b[0m\u001b[0;34m:\u001b[0m\u001b[0;34m\u001b[0m\u001b[0;34m\u001b[0m\u001b[0m\n\u001b[1;32m   1032\u001b[0m             \u001b[0;32mwith\u001b[0m \u001b[0mnp\u001b[0m\u001b[0;34m.\u001b[0m\u001b[0merrstate\u001b[0m\u001b[0;34m(\u001b[0m\u001b[0mall\u001b[0m\u001b[0;34m=\u001b[0m\u001b[0;34m'ignore'\u001b[0m\u001b[0;34m)\u001b[0m\u001b[0;34m:\u001b[0m\u001b[0;34m\u001b[0m\u001b[0;34m\u001b[0m\u001b[0m\n\u001b[0;32m-> 1033\u001b[0;31m                 \u001b[0;32mreturn\u001b[0m \u001b[0mna_op\u001b[0m\u001b[0;34m(\u001b[0m\u001b[0mlvalues\u001b[0m\u001b[0;34m,\u001b[0m \u001b[0mrvalues\u001b[0m\u001b[0;34m)\u001b[0m\u001b[0;34m\u001b[0m\u001b[0;34m\u001b[0m\u001b[0m\n\u001b[0m\u001b[1;32m   1034\u001b[0m         \u001b[0;32mexcept\u001b[0m \u001b[0mException\u001b[0m\u001b[0;34m:\u001b[0m\u001b[0;34m\u001b[0m\u001b[0;34m\u001b[0m\u001b[0m\n\u001b[1;32m   1035\u001b[0m             \u001b[0;32mif\u001b[0m \u001b[0mis_object_dtype\u001b[0m\u001b[0;34m(\u001b[0m\u001b[0mlvalues\u001b[0m\u001b[0;34m)\u001b[0m\u001b[0;34m:\u001b[0m\u001b[0;34m\u001b[0m\u001b[0;34m\u001b[0m\u001b[0m\n",
      "\u001b[0;32m~/anaconda3/lib/python3.7/site-packages/pandas/core/ops.py\u001b[0m in \u001b[0;36mna_op\u001b[0;34m(x, y)\u001b[0m\n\u001b[1;32m   1016\u001b[0m                 \u001b[0mresult\u001b[0m \u001b[0;34m=\u001b[0m \u001b[0mnp\u001b[0m\u001b[0;34m.\u001b[0m\u001b[0mempty\u001b[0m\u001b[0;34m(\u001b[0m\u001b[0mx\u001b[0m\u001b[0;34m.\u001b[0m\u001b[0msize\u001b[0m\u001b[0;34m,\u001b[0m \u001b[0mdtype\u001b[0m\u001b[0;34m=\u001b[0m\u001b[0mdtype\u001b[0m\u001b[0;34m)\u001b[0m\u001b[0;34m\u001b[0m\u001b[0;34m\u001b[0m\u001b[0m\n\u001b[1;32m   1017\u001b[0m                 \u001b[0mmask\u001b[0m \u001b[0;34m=\u001b[0m \u001b[0mnotna\u001b[0m\u001b[0;34m(\u001b[0m\u001b[0mx\u001b[0m\u001b[0;34m)\u001b[0m \u001b[0;34m&\u001b[0m \u001b[0mnotna\u001b[0m\u001b[0;34m(\u001b[0m\u001b[0my\u001b[0m\u001b[0;34m)\u001b[0m\u001b[0;34m\u001b[0m\u001b[0;34m\u001b[0m\u001b[0m\n\u001b[0;32m-> 1018\u001b[0;31m                 \u001b[0mresult\u001b[0m\u001b[0;34m[\u001b[0m\u001b[0mmask\u001b[0m\u001b[0;34m]\u001b[0m \u001b[0;34m=\u001b[0m \u001b[0mop\u001b[0m\u001b[0;34m(\u001b[0m\u001b[0mx\u001b[0m\u001b[0;34m[\u001b[0m\u001b[0mmask\u001b[0m\u001b[0;34m]\u001b[0m\u001b[0;34m,\u001b[0m \u001b[0mcom\u001b[0m\u001b[0;34m.\u001b[0m\u001b[0m_values_from_object\u001b[0m\u001b[0;34m(\u001b[0m\u001b[0my\u001b[0m\u001b[0;34m[\u001b[0m\u001b[0mmask\u001b[0m\u001b[0;34m]\u001b[0m\u001b[0;34m)\u001b[0m\u001b[0;34m)\u001b[0m\u001b[0;34m\u001b[0m\u001b[0;34m\u001b[0m\u001b[0m\n\u001b[0m\u001b[1;32m   1019\u001b[0m             \u001b[0;32melse\u001b[0m\u001b[0;34m:\u001b[0m\u001b[0;34m\u001b[0m\u001b[0;34m\u001b[0m\u001b[0m\n\u001b[1;32m   1020\u001b[0m                 \u001b[0;32massert\u001b[0m \u001b[0misinstance\u001b[0m\u001b[0;34m(\u001b[0m\u001b[0mx\u001b[0m\u001b[0;34m,\u001b[0m \u001b[0mnp\u001b[0m\u001b[0;34m.\u001b[0m\u001b[0mndarray\u001b[0m\u001b[0;34m)\u001b[0m\u001b[0;34m\u001b[0m\u001b[0;34m\u001b[0m\u001b[0m\n",
      "\u001b[0;31mTypeError\u001b[0m: unsupported operand type(s) for -: 'float' and 'str'"
     ]
    }
   ],
   "source": [
    "stats['LeBron James']['MP'].rolling(3,min_periods=1).mean()-stats['LeBron James']['MP']"
   ]
  },
  {
   "cell_type": "code",
   "execution_count": 222,
   "metadata": {},
   "outputs": [
    {
     "data": {
      "text/html": [
       "<div>\n",
       "<style scoped>\n",
       "    .dataframe tbody tr th:only-of-type {\n",
       "        vertical-align: middle;\n",
       "    }\n",
       "\n",
       "    .dataframe tbody tr th {\n",
       "        vertical-align: top;\n",
       "    }\n",
       "\n",
       "    .dataframe thead th {\n",
       "        text-align: right;\n",
       "    }\n",
       "</style>\n",
       "<table border=\"1\" class=\"dataframe\">\n",
       "  <thead>\n",
       "    <tr style=\"text-align: right;\">\n",
       "      <th></th>\n",
       "      <th>MP</th>\n",
       "      <th>PTS</th>\n",
       "    </tr>\n",
       "    <tr>\n",
       "      <th>Player</th>\n",
       "      <th></th>\n",
       "      <th></th>\n",
       "    </tr>\n",
       "  </thead>\n",
       "  <tbody>\n",
       "    <tr>\n",
       "      <th>Marc Gasol</th>\n",
       "      <td>31.9</td>\n",
       "      <td>11.7</td>\n",
       "    </tr>\n",
       "    <tr>\n",
       "      <th>Marc Gasol</th>\n",
       "      <td>36.5</td>\n",
       "      <td>14.6</td>\n",
       "    </tr>\n",
       "    <tr>\n",
       "      <th>Marc Gasol</th>\n",
       "      <td>35.0</td>\n",
       "      <td>14.1</td>\n",
       "    </tr>\n",
       "    <tr>\n",
       "      <th>Marc Gasol</th>\n",
       "      <td>33.4</td>\n",
       "      <td>14.6</td>\n",
       "    </tr>\n",
       "    <tr>\n",
       "      <th>Marc Gasol</th>\n",
       "      <td>33.2</td>\n",
       "      <td>17.4</td>\n",
       "    </tr>\n",
       "    <tr>\n",
       "      <th>Marc Gasol</th>\n",
       "      <td>34.4</td>\n",
       "      <td>16.6</td>\n",
       "    </tr>\n",
       "    <tr>\n",
       "      <th>Marc Gasol</th>\n",
       "      <td>34.2</td>\n",
       "      <td>19.5</td>\n",
       "    </tr>\n",
       "    <tr>\n",
       "      <th>Marc Gasol</th>\n",
       "      <td>33.0</td>\n",
       "      <td>17.2</td>\n",
       "    </tr>\n",
       "  </tbody>\n",
       "</table>\n",
       "</div>"
      ],
      "text/plain": [
       "              MP   PTS\n",
       "Player                \n",
       "Marc Gasol  31.9  11.7\n",
       "Marc Gasol  36.5  14.6\n",
       "Marc Gasol  35.0  14.1\n",
       "Marc Gasol  33.4  14.6\n",
       "Marc Gasol  33.2  17.4\n",
       "Marc Gasol  34.4  16.6\n",
       "Marc Gasol  34.2  19.5\n",
       "Marc Gasol  33.0  17.2"
      ]
     },
     "execution_count": 222,
     "metadata": {},
     "output_type": "execute_result"
    }
   ],
   "source": [
    "stats['Marc Gasol'][['MP','PTS']]"
   ]
  },
  {
   "cell_type": "code",
   "execution_count": 236,
   "metadata": {},
   "outputs": [
    {
     "data": {
      "text/plain": [
       "Player\n",
       "LeBron James    38.8\n",
       "LeBron James    37.5\n",
       "LeBron James    37.9\n",
       "LeBron James    37.7\n",
       "LeBron James    36.1\n",
       "LeBron James    35.6\n",
       "LeBron James    37.8\n",
       "LeBron James    36.9\n",
       "Name: MP, dtype: object"
      ]
     },
     "execution_count": 236,
     "metadata": {},
     "output_type": "execute_result"
    }
   ],
   "source": [
    "stats['LeBron James']['MP']"
   ]
  },
  {
   "cell_type": "code",
   "execution_count": null,
   "metadata": {},
   "outputs": [],
   "source": []
  }
 ],
 "metadata": {
  "kernelspec": {
   "display_name": "Python 3",
   "language": "python",
   "name": "python3"
  },
  "language_info": {
   "codemirror_mode": {
    "name": "ipython",
    "version": 3
   },
   "file_extension": ".py",
   "mimetype": "text/x-python",
   "name": "python",
   "nbconvert_exporter": "python",
   "pygments_lexer": "ipython3",
   "version": "3.7.1"
  }
 },
 "nbformat": 4,
 "nbformat_minor": 2
}
